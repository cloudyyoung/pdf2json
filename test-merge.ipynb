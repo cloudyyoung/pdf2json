{
 "cells": [
  {
   "cell_type": "code",
   "execution_count": 331,
   "metadata": {},
   "outputs": [],
   "source": [
    "# pdf_path = \"test/pdf/dc/form/Ceridian-2-EC-SDS-v2.1.pdf\"\n",
    "# output_pdf_path = \"test/target/dc/form/Ceridian-2-EC-SDS-v2.1.pdf\"\n",
    "\n",
    "# pdf_path = \"test/pdf/dc/form/acuron-label.pdf\"\n",
    "# output_pdf_path = \"test/target/dc/form/acuron-label.pdf\"\n",
    "\n",
    "# pdf_path = \"test/pdf/dc/form/Blue_Book_2023_web.pdf\"\n",
    "# output_pdf_path = \"test/target/dc/form/Blue_Book_2023_web.pdf\"\n",
    "\n",
    "pdf_path = \"test/pdf/dc/form/Ceridian-2-EC-Supplemental-Label.pdf\"\n",
    "output_pdf_path = \"test/target/dc/form/Ceridian-2-EC-Supplemental-Label.pdf\""
   ]
  },
  {
   "cell_type": "code",
   "execution_count": 332,
   "metadata": {},
   "outputs": [],
   "source": [
    "import fitz\n",
    "import json\n",
    "import pandas as pd\n",
    "import numpy as np\n",
    "from pprint import pprint\n",
    "from collections import defaultdict\n",
    "from typing import Iterable\n"
   ]
  },
  {
   "cell_type": "code",
   "execution_count": 333,
   "metadata": {},
   "outputs": [],
   "source": [
    "doc = fitz.open(pdf_path)"
   ]
  },
  {
   "cell_type": "code",
   "execution_count": 334,
   "metadata": {},
   "outputs": [
    {
     "data": {
      "text/plain": [
       "Rect(0.0, 0.0, 612.0, 792.0)"
      ]
     },
     "execution_count": 334,
     "metadata": {},
     "output_type": "execute_result"
    }
   ],
   "source": [
    "doc.page_cropbox(0)"
   ]
  },
  {
   "cell_type": "code",
   "execution_count": 336,
   "metadata": {},
   "outputs": [],
   "source": [
    "for page in doc:\n",
    "    blocks = page.get_text(\"dict\")[\"blocks\"]\n",
    "\n",
    "    texts = []\n",
    "    spans = []\n",
    "    \n",
    "    blocks = page.get_text(\"dict\")[\"blocks\"]\n",
    "    for index, block in enumerate(blocks):\n",
    "        for line in block.get(\"lines\") or []:\n",
    "            for span in line.get(\"spans\") or []:\n",
    "                spans.append(span)\n",
    "\n",
    "    text = []\n",
    "    for span in spans:\n",
    "        span_rect = fitz.Rect(span[\"bbox\"])\n",
    "        last_rect = fitz.Rect(last_span[\"bbox\"])\n",
    "\n",
    "        if len(text) == 0:\n",
    "            text = [span]\n",
    "            continue\n",
    "\n",
    "        last_span = text[-1]\n",
    "\n",
    "\n",
    "        if span[\"font\"] == last_span[\"font\"]:\n",
    "            text.append(span)\n",
    "\n",
    "        else:\n",
    "            texts.append(text)\n",
    "            text = [span]\n",
    "    texts.append(text)\n",
    "    \n",
    "\n",
    "    for text_index, text in enumerate(texts):\n",
    "        # generate random color\n",
    "        color = list(np.random.rand(3,))\n",
    "\n",
    "        for span in text:\n",
    "            rect = fitz.Rect(span[\"bbox\"])\n",
    "            point = rect.tl\n",
    "            point.x -= 10\n",
    "            point.y += 8\n",
    "\n",
    "            page.draw_rect(rect, color=color, width=0.6, overlay=True, stroke_opacity=0.7)\n",
    "            page.insert_text(point, f\"{text_index}\", color=color, fontname=\"helvetica-bold\", fontsize=8, overlay=True)\n"
   ]
  },
  {
   "cell_type": "code",
   "execution_count": 337,
   "metadata": {},
   "outputs": [],
   "source": [
    "doc.save(output_pdf_path)"
   ]
  }
 ],
 "metadata": {
  "kernelspec": {
   "display_name": "Python 3",
   "language": "python",
   "name": "python3"
  },
  "language_info": {
   "codemirror_mode": {
    "name": "ipython",
    "version": 3
   },
   "file_extension": ".py",
   "mimetype": "text/x-python",
   "name": "python",
   "nbconvert_exporter": "python",
   "pygments_lexer": "ipython3",
   "version": "3.11.4"
  },
  "orig_nbformat": 4
 },
 "nbformat": 4,
 "nbformat_minor": 2
}
